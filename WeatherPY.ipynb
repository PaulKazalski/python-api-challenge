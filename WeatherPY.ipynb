{
 "cells": [
  {
   "cell_type": "markdown",
   "metadata": {},
   "source": [
    "# WeatherPy\n",
    "----\n",
    "\n",
    "#### Note\n",
    "* Instructions have been included for each segment. You do not have to follow them exactly, but they are included to help you think through the steps."
   ]
  },
  {
   "cell_type": "code",
   "execution_count": 17,
   "metadata": {
    "scrolled": true
   },
   "outputs": [],
   "source": [
    "# Dependencies and Setup\n",
    "import matplotlib.pyplot as plt\n",
    "import pandas as pd\n",
    "import numpy as np\n",
    "import requests\n",
    "import time\n",
    "from scipy.stats import linregress\n",
    "\n",
    "# Import API key\n",
    "from api_keys import weather_api_key\n",
    "\n",
    "# Incorporated citipy to determine city based on latitude and longitude\n",
    "from citipy import citipy\n",
    "\n",
    "# Output File (CSV)\n",
    "output_data_file = \"output_data/cities.csv\"\n",
    "\n",
    "# Range of latitudes and longitudes\n",
    "lat_range = (-90, 90)\n",
    "lng_range = (-180, 180)"
   ]
  },
  {
   "cell_type": "markdown",
   "metadata": {},
   "source": [
    "## Generate Cities List"
   ]
  },
  {
   "cell_type": "code",
   "execution_count": 18,
   "metadata": {},
   "outputs": [
    {
     "name": "stdout",
     "output_type": "stream",
     "text": [
      "355\n"
     ]
    }
   ],
   "source": [
    "# List for holding lat_lngs and cities\n",
    "lat_lngs = []\n",
    "cities = []\n",
    "\n",
    "lat_low = -30\n",
    "lat_high = 30\n",
    "lon_low = 15\n",
    "lon_high = 30\n",
    "\n",
    "# Create a set of random lat and lng combinations\n",
    "lats = np.random.uniform(low=lat_low, high=lat_high, size=1500)\n",
    "lngs = np.random.uniform(low=lon_low, high=lon_high, size=1500)\n",
    "lat_lngs = zip(lats, lngs)\n",
    "\n",
    "# Identify nearest city for each lat, lng combination\n",
    "for lat_lng in lat_lngs:\n",
    "    city = citipy.nearest_city(lat_lng[0], lat_lng[1]).city_name\n",
    "    \n",
    "    # If the city is unique, then add it to a our cities list\n",
    "    if city not in cities:\n",
    "        cities.append(city)\n",
    "\n",
    "# Print the city count to confirm sufficient count\n",
    "print(len(cities))"
   ]
  },
  {
   "cell_type": "markdown",
   "metadata": {},
   "source": [
    "### Perform API Calls\n",
    "* Perform a weather check on each city using a series of successive API calls.\n",
    "* Include a print log of each city as it'sbeing processed (with the city number and city name).\n"
   ]
  },
  {
   "cell_type": "code",
   "execution_count": 19,
   "metadata": {},
   "outputs": [],
   "source": [
    "# Save config information.\n",
    "url = \"http://api.openweathermap.org/data/2.5/weather?\"\n",
    "units = \"metric\"\n",
    "\n",
    "# Build partial query URL\n",
    "query_url = f\"{url}appid={weather_api_key}&units={units}&q=\""
   ]
  },
  {
   "cell_type": "code",
   "execution_count": 20,
   "metadata": {},
   "outputs": [
    {
     "name": "stdout",
     "output_type": "stream",
     "text": [
      "The length of the randomly generated cities list is: 355\n",
      "The length of the vetted cities list is: 316\n"
     ]
    }
   ],
   "source": [
    "city_used = []\n",
    "print(f\"The length of the randomly generated cities list is: {len(cities)}\")\n",
    "for city in cities:\n",
    "    response = requests.get(query_url + city).json()\n",
    "    if response['cod'] != '404':\n",
    "        city_used.append(city)\n",
    "print(f\"The length of the vetted cities list is: {len(city_used)}\")\n",
    "    "
   ]
  },
  {
   "cell_type": "code",
   "execution_count": 21,
   "metadata": {},
   "outputs": [
    {
     "name": "stdout",
     "output_type": "stream",
     "text": [
      "http://api.openweathermap.org/data/2.5/weather?appid=930146841c1d8290198e0f95db765f03&q=springbok\n",
      "{'coord': {'lon': 17.88, 'lat': -29.67}, 'weather': [{'id': 804, 'main': 'Clouds', 'description': 'overcast clouds', 'icon': '04n'}], 'base': 'stations', 'main': {'temp': 287.15, 'feels_like': 285.53, 'temp_min': 287.15, 'temp_max': 287.15, 'pressure': 1012, 'humidity': 93}, 'wind': {'speed': 3.6, 'deg': 260}, 'clouds': {'all': 95}, 'dt': 1578455253, 'sys': {'type': 1, 'id': 1978, 'country': 'ZA', 'sunrise': 1578455779, 'sunset': 1578505982}, 'timezone': 7200, 'id': 3361142, 'name': 'Springbok', 'cod': 200}\n",
      "['springbok', 95, 'ZA', 93, -29.67, 17.88, 287.15, 3.6]\n"
     ]
    }
   ],
   "source": [
    "#Read the json for one city\n",
    "\n",
    "city = city_used[1]\n",
    "query_url = url + \"appid=\" + weather_api_key + \"&q=\" + city\n",
    "weather_json = requests.get(query_url).json()\n",
    "print(query_url)\n",
    "print(weather_json)\n",
    "clouds = weather_json['clouds']['all']\n",
    "ctry = weather_json['sys']['country']\n",
    "humid = weather_json['main']['humidity']\n",
    "lat = weather_json['coord']['lat']\n",
    "lng = weather_json['coord']['lon']\n",
    "maxT = weather_json['main']['temp_max']\n",
    "windV = weather_json['wind']['speed']\n",
    "\n",
    "row = [city, clouds, ctry, humid, lat, lng, maxT, windV]\n",
    "print(row)\n"
   ]
  },
  {
   "cell_type": "code",
   "execution_count": 22,
   "metadata": {},
   "outputs": [],
   "source": [
    "query_url = f\"{url}appid={weather_api_key}&units={units}&q=\"\n",
    "\n",
    "# set up lists to hold reponse info\n",
    "clouds_list = []\n",
    "ctry_list = []\n",
    "humid_list = []\n",
    "lat_list = []\n",
    "lng_list = []\n",
    "maxT_list = []\n",
    "windV_list = []\n",
    "\n",
    "# Go through each city with API data and collect relevant info\n",
    "for cit in city_used:\n",
    "    response2 = requests.get(query_url + cit).json()\n",
    "    clouds_list.append(response2['clouds']['all'])\n",
    "    ctry_list.append(response2['sys']['country'])\n",
    "    humid_list.append(response2['main']['humidity'])\n",
    "    lat_list.append(response2['coord']['lat'])\n",
    "    lng_list.append(response2['coord']['lon'])\n",
    "    maxT_list.append(response2['main']['temp_max'])\n",
    "    windV_list.append(response2['wind']['speed'])\n"
   ]
  },
  {
   "cell_type": "code",
   "execution_count": 23,
   "metadata": {},
   "outputs": [
    {
     "data": {
      "text/html": [
       "<div>\n",
       "<style scoped>\n",
       "    .dataframe tbody tr th:only-of-type {\n",
       "        vertical-align: middle;\n",
       "    }\n",
       "\n",
       "    .dataframe tbody tr th {\n",
       "        vertical-align: top;\n",
       "    }\n",
       "\n",
       "    .dataframe thead th {\n",
       "        text-align: right;\n",
       "    }\n",
       "</style>\n",
       "<table border=\"1\" class=\"dataframe\">\n",
       "  <thead>\n",
       "    <tr style=\"text-align: right;\">\n",
       "      <th></th>\n",
       "      <th>city</th>\n",
       "      <th>country</th>\n",
       "      <th>latitude</th>\n",
       "      <th>longitude</th>\n",
       "      <th>max_temp</th>\n",
       "      <th>humidity</th>\n",
       "      <th>cloudiness</th>\n",
       "      <th>Wind speed</th>\n",
       "    </tr>\n",
       "  </thead>\n",
       "  <tbody>\n",
       "    <tr>\n",
       "      <td>0</td>\n",
       "      <td>camacupa</td>\n",
       "      <td>AO</td>\n",
       "      <td>-12.02</td>\n",
       "      <td>17.48</td>\n",
       "      <td>16.77</td>\n",
       "      <td>95</td>\n",
       "      <td>100</td>\n",
       "      <td>1.40</td>\n",
       "    </tr>\n",
       "    <tr>\n",
       "      <td>1</td>\n",
       "      <td>springbok</td>\n",
       "      <td>ZA</td>\n",
       "      <td>-29.67</td>\n",
       "      <td>17.88</td>\n",
       "      <td>14.00</td>\n",
       "      <td>93</td>\n",
       "      <td>100</td>\n",
       "      <td>3.60</td>\n",
       "    </tr>\n",
       "    <tr>\n",
       "      <td>2</td>\n",
       "      <td>mporokoso</td>\n",
       "      <td>ZM</td>\n",
       "      <td>-9.37</td>\n",
       "      <td>30.12</td>\n",
       "      <td>16.41</td>\n",
       "      <td>95</td>\n",
       "      <td>87</td>\n",
       "      <td>1.17</td>\n",
       "    </tr>\n",
       "    <tr>\n",
       "      <td>3</td>\n",
       "      <td>oum hadjer</td>\n",
       "      <td>TD</td>\n",
       "      <td>13.30</td>\n",
       "      <td>19.70</td>\n",
       "      <td>19.29</td>\n",
       "      <td>20</td>\n",
       "      <td>1</td>\n",
       "      <td>4.86</td>\n",
       "    </tr>\n",
       "    <tr>\n",
       "      <td>4</td>\n",
       "      <td>lichtenburg</td>\n",
       "      <td>ZA</td>\n",
       "      <td>-26.15</td>\n",
       "      <td>26.16</td>\n",
       "      <td>19.20</td>\n",
       "      <td>61</td>\n",
       "      <td>100</td>\n",
       "      <td>5.56</td>\n",
       "    </tr>\n",
       "    <tr>\n",
       "      <td>...</td>\n",
       "      <td>...</td>\n",
       "      <td>...</td>\n",
       "      <td>...</td>\n",
       "      <td>...</td>\n",
       "      <td>...</td>\n",
       "      <td>...</td>\n",
       "      <td>...</td>\n",
       "      <td>...</td>\n",
       "    </tr>\n",
       "    <tr>\n",
       "      <td>311</td>\n",
       "      <td>luangwa</td>\n",
       "      <td>MZ</td>\n",
       "      <td>-15.62</td>\n",
       "      <td>30.40</td>\n",
       "      <td>21.81</td>\n",
       "      <td>92</td>\n",
       "      <td>100</td>\n",
       "      <td>0.15</td>\n",
       "    </tr>\n",
       "    <tr>\n",
       "      <td>312</td>\n",
       "      <td>caala</td>\n",
       "      <td>AO</td>\n",
       "      <td>-12.85</td>\n",
       "      <td>15.56</td>\n",
       "      <td>16.44</td>\n",
       "      <td>95</td>\n",
       "      <td>100</td>\n",
       "      <td>0.91</td>\n",
       "    </tr>\n",
       "    <tr>\n",
       "      <td>313</td>\n",
       "      <td>maamba</td>\n",
       "      <td>ZM</td>\n",
       "      <td>-17.36</td>\n",
       "      <td>27.22</td>\n",
       "      <td>21.92</td>\n",
       "      <td>82</td>\n",
       "      <td>100</td>\n",
       "      <td>0.50</td>\n",
       "    </tr>\n",
       "    <tr>\n",
       "      <td>314</td>\n",
       "      <td>yagoua</td>\n",
       "      <td>CM</td>\n",
       "      <td>10.34</td>\n",
       "      <td>15.23</td>\n",
       "      <td>18.67</td>\n",
       "      <td>20</td>\n",
       "      <td>0</td>\n",
       "      <td>3.69</td>\n",
       "    </tr>\n",
       "    <tr>\n",
       "      <td>315</td>\n",
       "      <td>ntungamo</td>\n",
       "      <td>UG</td>\n",
       "      <td>-0.87</td>\n",
       "      <td>30.27</td>\n",
       "      <td>16.40</td>\n",
       "      <td>90</td>\n",
       "      <td>80</td>\n",
       "      <td>1.08</td>\n",
       "    </tr>\n",
       "  </tbody>\n",
       "</table>\n",
       "<p>316 rows × 8 columns</p>\n",
       "</div>"
      ],
      "text/plain": [
       "            city country  latitude  longitude  max_temp  humidity  cloudiness  \\\n",
       "0       camacupa      AO    -12.02      17.48     16.77        95         100   \n",
       "1      springbok      ZA    -29.67      17.88     14.00        93         100   \n",
       "2      mporokoso      ZM     -9.37      30.12     16.41        95          87   \n",
       "3     oum hadjer      TD     13.30      19.70     19.29        20           1   \n",
       "4    lichtenburg      ZA    -26.15      26.16     19.20        61         100   \n",
       "..           ...     ...       ...        ...       ...       ...         ...   \n",
       "311      luangwa      MZ    -15.62      30.40     21.81        92         100   \n",
       "312        caala      AO    -12.85      15.56     16.44        95         100   \n",
       "313       maamba      ZM    -17.36      27.22     21.92        82         100   \n",
       "314       yagoua      CM     10.34      15.23     18.67        20           0   \n",
       "315     ntungamo      UG     -0.87      30.27     16.40        90          80   \n",
       "\n",
       "     Wind speed  \n",
       "0          1.40  \n",
       "1          3.60  \n",
       "2          1.17  \n",
       "3          4.86  \n",
       "4          5.56  \n",
       "..          ...  \n",
       "311        0.15  \n",
       "312        0.91  \n",
       "313        0.50  \n",
       "314        3.69  \n",
       "315        1.08  \n",
       "\n",
       "[316 rows x 8 columns]"
      ]
     },
     "execution_count": 23,
     "metadata": {},
     "output_type": "execute_result"
    }
   ],
   "source": [
    "# create a data frame from cities, lat, and temp\n",
    "weather_dict = {\n",
    "    \"city\": city_used,\n",
    "    \"country\": ctry_list,\n",
    "    \"latitude\": lat_list,\n",
    "    \"longitude\": lng_list,\n",
    "    \"max_temp\": maxT_list,\n",
    "    \"humidity\": humid_list,\n",
    "    \"cloudiness\": clouds_list,\n",
    "    \"Wind speed\": windV_list\n",
    "}\n",
    "weather_data = pd.DataFrame(weather_dict)\n",
    "weather_data"
   ]
  },
  {
   "cell_type": "markdown",
   "metadata": {},
   "source": [
    "### Convert Raw Data to DataFrame\n",
    "* Export the city data into a .csv.\n",
    "* Display the DataFrame"
   ]
  },
  {
   "cell_type": "code",
   "execution_count": 24,
   "metadata": {},
   "outputs": [],
   "source": [
    "# Export file as a CSV, without the Pandas index, but with the header\n",
    "weather_data.to_csv(output_data_file, index=False, header=True)"
   ]
  },
  {
   "cell_type": "markdown",
   "metadata": {},
   "source": [
    "### Plotting the Data\n",
    "* Use proper labeling of the plots using plot titles (including date of analysis) and axes labels.\n",
    "* Save the plotted figures as .pngs."
   ]
  },
  {
   "cell_type": "markdown",
   "metadata": {},
   "source": [
    "#### Latitude vs. Temperature Plot"
   ]
  },
  {
   "cell_type": "code",
   "execution_count": 25,
   "metadata": {
    "scrolled": true
   },
   "outputs": [
    {
     "data": {
      "text/plain": [
       "<matplotlib.collections.PathCollection at 0x161edc1a4c8>"
      ]
     },
     "execution_count": 25,
     "metadata": {},
     "output_type": "execute_result"
    },
    {
     "data": {
      "image/png": "[encoded data removed]",
      "text/plain": [
       "<Figure size 432x288 with 1 Axes>"
      ]
     },
     "metadata": {
      "needs_background": "light"
     },
     "output_type": "display_data"
    }
   ],
   "source": [
    "TempVsLat = plt.scatter(lat_list, maxT_list, marker=\"o\", facecolors=\"blue\", edgecolors=\"black\", alpha=0.75)\n",
    "\n",
    "plt.title(\"Temperature v Latitude\")\n",
    "plt.ylabel(\"Temperature (Celsius)\")\n",
    "plt.xlabel(\"Latitude, degrees\")\n",
    "plt.grid()\n",
    "TempVsLat\n"
   ]
  },
  {
   "cell_type": "markdown",
   "metadata": {},
   "source": [
    "#### Latitude vs. Humidity Plot"
   ]
  },
  {
   "cell_type": "code",
   "execution_count": 26,
   "metadata": {},
   "outputs": [
    {
     "data": {
      "image/png": "[encoded data removed]",
      "text/plain": [
       "<Figure size 432x288 with 1 Axes>"
      ]
     },
     "metadata": {
      "needs_background": "light"
     },
     "output_type": "display_data"
    }
   ],
   "source": [
    "plt.scatter(lat_list, humid_list, marker=\"o\", facecolors=\"blue\", edgecolors=\"black\", alpha=0.75)\n",
    "\n",
    "plt.title(\"Humidity v Latitude\")\n",
    "plt.ylabel(\"Relative Humidity %\")\n",
    "plt.xlabel(\"Latitude, degrees\")\n",
    "plt.grid()"
   ]
  },
  {
   "cell_type": "markdown",
   "metadata": {},
   "source": [
    "#### Latitude vs. Cloudiness Plot"
   ]
  },
  {
   "cell_type": "code",
   "execution_count": 27,
   "metadata": {},
   "outputs": [
    {
     "data": {
      "image/png": "[encoded data removed]",
      "text/plain": [
       "<Figure size 432x288 with 1 Axes>"
      ]
     },
     "metadata": {
      "needs_background": "light"
     },
     "output_type": "display_data"
    }
   ],
   "source": [
    "plt.scatter(lat_list, clouds_list, marker=\"o\", facecolors=\"blue\", edgecolors=\"black\", alpha=0.75)\n",
    "\n",
    "plt.title(\"Cloudiness v Latitude\")\n",
    "plt.ylabel(\"Cloudiness, %\")\n",
    "plt.xlabel(\"Latitude, degrees\")\n",
    "plt.grid()"
   ]
  },
  {
   "cell_type": "markdown",
   "metadata": {},
   "source": [
    "#### Latitude vs. Wind Speed Plot"
   ]
  },
  {
   "cell_type": "code",
   "execution_count": 28,
   "metadata": {},
   "outputs": [
    {
     "data": {
      "image/png": "[encoded data removed]",
      "text/plain": [
       "<Figure size 432x288 with 1 Axes>"
      ]
     },
     "metadata": {
      "needs_background": "light"
     },
     "output_type": "display_data"
    }
   ],
   "source": [
    "plt.scatter(lat_list, windV_list, marker=\"o\", facecolors=\"blue\", edgecolors=\"black\", alpha=0.75)\n",
    "\n",
    "plt.title(\"Wind Speed v Latitude\")\n",
    "plt.ylabel(\"Wind Speed, m/s\")\n",
    "plt.xlabel(\"Latitude, degrees\")\n",
    "plt.grid()"
   ]
  },
  {
   "cell_type": "markdown",
   "metadata": {},
   "source": [
    "## Linear Regression"
   ]
  },
  {
   "cell_type": "code",
   "execution_count": 108,
   "metadata": {},
   "outputs": [],
   "source": [
    "# OPTIONAL: Create a function to create Linear Regression plots\n"
   ]
  },
  {
   "cell_type": "code",
   "execution_count": 29,
   "metadata": {},
   "outputs": [
    {
     "data": {
      "text/html": [
       "<div>\n",
       "<style scoped>\n",
       "    .dataframe tbody tr th:only-of-type {\n",
       "        vertical-align: middle;\n",
       "    }\n",
       "\n",
       "    .dataframe tbody tr th {\n",
       "        vertical-align: top;\n",
       "    }\n",
       "\n",
       "    .dataframe thead th {\n",
       "        text-align: right;\n",
       "    }\n",
       "</style>\n",
       "<table border=\"1\" class=\"dataframe\">\n",
       "  <thead>\n",
       "    <tr style=\"text-align: right;\">\n",
       "      <th></th>\n",
       "      <th>city</th>\n",
       "      <th>country</th>\n",
       "      <th>latitude</th>\n",
       "      <th>longitude</th>\n",
       "      <th>max_temp</th>\n",
       "      <th>humidity</th>\n",
       "      <th>cloudiness</th>\n",
       "      <th>Wind speed</th>\n",
       "    </tr>\n",
       "  </thead>\n",
       "  <tbody>\n",
       "    <tr>\n",
       "      <td>3</td>\n",
       "      <td>oum hadjer</td>\n",
       "      <td>TD</td>\n",
       "      <td>13.30</td>\n",
       "      <td>19.70</td>\n",
       "      <td>19.29</td>\n",
       "      <td>20</td>\n",
       "      <td>1</td>\n",
       "      <td>4.86</td>\n",
       "    </tr>\n",
       "    <tr>\n",
       "      <td>8</td>\n",
       "      <td>marawi</td>\n",
       "      <td>PH</td>\n",
       "      <td>8.00</td>\n",
       "      <td>124.29</td>\n",
       "      <td>27.22</td>\n",
       "      <td>76</td>\n",
       "      <td>92</td>\n",
       "      <td>3.13</td>\n",
       "    </tr>\n",
       "    <tr>\n",
       "      <td>10</td>\n",
       "      <td>bara</td>\n",
       "      <td>NG</td>\n",
       "      <td>10.41</td>\n",
       "      <td>10.60</td>\n",
       "      <td>18.28</td>\n",
       "      <td>25</td>\n",
       "      <td>100</td>\n",
       "      <td>3.37</td>\n",
       "    </tr>\n",
       "    <tr>\n",
       "      <td>14</td>\n",
       "      <td>birao</td>\n",
       "      <td>CF</td>\n",
       "      <td>10.30</td>\n",
       "      <td>22.78</td>\n",
       "      <td>20.61</td>\n",
       "      <td>28</td>\n",
       "      <td>0</td>\n",
       "      <td>4.95</td>\n",
       "    </tr>\n",
       "    <tr>\n",
       "      <td>15</td>\n",
       "      <td>marzuq</td>\n",
       "      <td>YE</td>\n",
       "      <td>14.40</td>\n",
       "      <td>46.47</td>\n",
       "      <td>15.64</td>\n",
       "      <td>89</td>\n",
       "      <td>57</td>\n",
       "      <td>1.48</td>\n",
       "    </tr>\n",
       "    <tr>\n",
       "      <td>...</td>\n",
       "      <td>...</td>\n",
       "      <td>...</td>\n",
       "      <td>...</td>\n",
       "      <td>...</td>\n",
       "      <td>...</td>\n",
       "      <td>...</td>\n",
       "      <td>...</td>\n",
       "      <td>...</td>\n",
       "    </tr>\n",
       "    <tr>\n",
       "      <td>302</td>\n",
       "      <td>bitkine</td>\n",
       "      <td>TD</td>\n",
       "      <td>11.98</td>\n",
       "      <td>18.21</td>\n",
       "      <td>20.08</td>\n",
       "      <td>19</td>\n",
       "      <td>0</td>\n",
       "      <td>4.69</td>\n",
       "    </tr>\n",
       "    <tr>\n",
       "      <td>303</td>\n",
       "      <td>mobaye</td>\n",
       "      <td>CF</td>\n",
       "      <td>4.33</td>\n",
       "      <td>21.18</td>\n",
       "      <td>21.17</td>\n",
       "      <td>44</td>\n",
       "      <td>46</td>\n",
       "      <td>1.56</td>\n",
       "    </tr>\n",
       "    <tr>\n",
       "      <td>308</td>\n",
       "      <td>bol</td>\n",
       "      <td>TD</td>\n",
       "      <td>13.47</td>\n",
       "      <td>14.72</td>\n",
       "      <td>20.40</td>\n",
       "      <td>29</td>\n",
       "      <td>0</td>\n",
       "      <td>7.61</td>\n",
       "    </tr>\n",
       "    <tr>\n",
       "      <td>310</td>\n",
       "      <td>bangui</td>\n",
       "      <td>CF</td>\n",
       "      <td>4.39</td>\n",
       "      <td>18.55</td>\n",
       "      <td>21.00</td>\n",
       "      <td>94</td>\n",
       "      <td>0</td>\n",
       "      <td>1.29</td>\n",
       "    </tr>\n",
       "    <tr>\n",
       "      <td>314</td>\n",
       "      <td>yagoua</td>\n",
       "      <td>CM</td>\n",
       "      <td>10.34</td>\n",
       "      <td>15.23</td>\n",
       "      <td>18.67</td>\n",
       "      <td>20</td>\n",
       "      <td>0</td>\n",
       "      <td>3.69</td>\n",
       "    </tr>\n",
       "  </tbody>\n",
       "</table>\n",
       "<p>100 rows × 8 columns</p>\n",
       "</div>"
      ],
      "text/plain": [
       "           city country  latitude  longitude  max_temp  humidity  cloudiness  \\\n",
       "3    oum hadjer      TD     13.30      19.70     19.29        20           1   \n",
       "8        marawi      PH      8.00     124.29     27.22        76          92   \n",
       "10         bara      NG     10.41      10.60     18.28        25         100   \n",
       "14        birao      CF     10.30      22.78     20.61        28           0   \n",
       "15       marzuq      YE     14.40      46.47     15.64        89          57   \n",
       "..          ...     ...       ...        ...       ...       ...         ...   \n",
       "302     bitkine      TD     11.98      18.21     20.08        19           0   \n",
       "303      mobaye      CF      4.33      21.18     21.17        44          46   \n",
       "308         bol      TD     13.47      14.72     20.40        29           0   \n",
       "310      bangui      CF      4.39      18.55     21.00        94           0   \n",
       "314      yagoua      CM     10.34      15.23     18.67        20           0   \n",
       "\n",
       "     Wind speed  \n",
       "3          4.86  \n",
       "8          3.13  \n",
       "10         3.37  \n",
       "14         4.95  \n",
       "15         1.48  \n",
       "..          ...  \n",
       "302        4.69  \n",
       "303        1.56  \n",
       "308        7.61  \n",
       "310        1.29  \n",
       "314        3.69  \n",
       "\n",
       "[100 rows x 8 columns]"
      ]
     },
     "execution_count": 29,
     "metadata": {},
     "output_type": "execute_result"
    }
   ],
   "source": [
    "# Create Northern and Southern Hemisphere DataFrames\n",
    "weather_north_df = weather_data.loc[(weather_data[\"latitude\"] >= 0), :] \n",
    "\n",
    "lat_n = []\n",
    "lon_n = []\n",
    "temp_n = []\n",
    "humid_n = []\n",
    "cloud_n = []\n",
    "wind_n = []\n",
    "\n",
    "# iterate over rows with iterrows()\n",
    "for index, row in weather_north_df.iterrows():\n",
    "    lat_n.append(row[2])\n",
    "    lon_n.append(row[3])\n",
    "    temp_n.append(row[4])\n",
    "    humid_n.append(row[5])\n",
    "    cloud_n.append(row[6])\n",
    "    wind_n.append(row[7])\n",
    "\n",
    "weather_north_df    "
   ]
  },
  {
   "cell_type": "code",
   "execution_count": 30,
   "metadata": {},
   "outputs": [
    {
     "data": {
      "text/html": [
       "<div>\n",
       "<style scoped>\n",
       "    .dataframe tbody tr th:only-of-type {\n",
       "        vertical-align: middle;\n",
       "    }\n",
       "\n",
       "    .dataframe tbody tr th {\n",
       "        vertical-align: top;\n",
       "    }\n",
       "\n",
       "    .dataframe thead th {\n",
       "        text-align: right;\n",
       "    }\n",
       "</style>\n",
       "<table border=\"1\" class=\"dataframe\">\n",
       "  <thead>\n",
       "    <tr style=\"text-align: right;\">\n",
       "      <th></th>\n",
       "      <th>city</th>\n",
       "      <th>country</th>\n",
       "      <th>latitude</th>\n",
       "      <th>longitude</th>\n",
       "      <th>max_temp</th>\n",
       "      <th>humidity</th>\n",
       "      <th>cloudiness</th>\n",
       "      <th>Wind speed</th>\n",
       "    </tr>\n",
       "  </thead>\n",
       "  <tbody>\n",
       "    <tr>\n",
       "      <td>0</td>\n",
       "      <td>camacupa</td>\n",
       "      <td>AO</td>\n",
       "      <td>-12.02</td>\n",
       "      <td>17.48</td>\n",
       "      <td>16.77</td>\n",
       "      <td>95</td>\n",
       "      <td>100</td>\n",
       "      <td>1.40</td>\n",
       "    </tr>\n",
       "    <tr>\n",
       "      <td>1</td>\n",
       "      <td>springbok</td>\n",
       "      <td>ZA</td>\n",
       "      <td>-29.67</td>\n",
       "      <td>17.88</td>\n",
       "      <td>14.00</td>\n",
       "      <td>93</td>\n",
       "      <td>100</td>\n",
       "      <td>3.60</td>\n",
       "    </tr>\n",
       "    <tr>\n",
       "      <td>2</td>\n",
       "      <td>mporokoso</td>\n",
       "      <td>ZM</td>\n",
       "      <td>-9.37</td>\n",
       "      <td>30.12</td>\n",
       "      <td>16.41</td>\n",
       "      <td>95</td>\n",
       "      <td>87</td>\n",
       "      <td>1.17</td>\n",
       "    </tr>\n",
       "    <tr>\n",
       "      <td>4</td>\n",
       "      <td>lichtenburg</td>\n",
       "      <td>ZA</td>\n",
       "      <td>-26.15</td>\n",
       "      <td>26.16</td>\n",
       "      <td>19.20</td>\n",
       "      <td>61</td>\n",
       "      <td>100</td>\n",
       "      <td>5.56</td>\n",
       "    </tr>\n",
       "    <tr>\n",
       "      <td>5</td>\n",
       "      <td>mongo</td>\n",
       "      <td>CD</td>\n",
       "      <td>-5.62</td>\n",
       "      <td>14.60</td>\n",
       "      <td>21.45</td>\n",
       "      <td>94</td>\n",
       "      <td>99</td>\n",
       "      <td>0.21</td>\n",
       "    </tr>\n",
       "    <tr>\n",
       "      <td>...</td>\n",
       "      <td>...</td>\n",
       "      <td>...</td>\n",
       "      <td>...</td>\n",
       "      <td>...</td>\n",
       "      <td>...</td>\n",
       "      <td>...</td>\n",
       "      <td>...</td>\n",
       "      <td>...</td>\n",
       "    </tr>\n",
       "    <tr>\n",
       "      <td>309</td>\n",
       "      <td>monze</td>\n",
       "      <td>ZM</td>\n",
       "      <td>-16.28</td>\n",
       "      <td>27.48</td>\n",
       "      <td>19.24</td>\n",
       "      <td>95</td>\n",
       "      <td>100</td>\n",
       "      <td>2.33</td>\n",
       "    </tr>\n",
       "    <tr>\n",
       "      <td>311</td>\n",
       "      <td>luangwa</td>\n",
       "      <td>MZ</td>\n",
       "      <td>-15.62</td>\n",
       "      <td>30.40</td>\n",
       "      <td>21.81</td>\n",
       "      <td>92</td>\n",
       "      <td>100</td>\n",
       "      <td>0.15</td>\n",
       "    </tr>\n",
       "    <tr>\n",
       "      <td>312</td>\n",
       "      <td>caala</td>\n",
       "      <td>AO</td>\n",
       "      <td>-12.85</td>\n",
       "      <td>15.56</td>\n",
       "      <td>16.44</td>\n",
       "      <td>95</td>\n",
       "      <td>100</td>\n",
       "      <td>0.91</td>\n",
       "    </tr>\n",
       "    <tr>\n",
       "      <td>313</td>\n",
       "      <td>maamba</td>\n",
       "      <td>ZM</td>\n",
       "      <td>-17.36</td>\n",
       "      <td>27.22</td>\n",
       "      <td>21.92</td>\n",
       "      <td>82</td>\n",
       "      <td>100</td>\n",
       "      <td>0.50</td>\n",
       "    </tr>\n",
       "    <tr>\n",
       "      <td>315</td>\n",
       "      <td>ntungamo</td>\n",
       "      <td>UG</td>\n",
       "      <td>-0.87</td>\n",
       "      <td>30.27</td>\n",
       "      <td>16.40</td>\n",
       "      <td>90</td>\n",
       "      <td>80</td>\n",
       "      <td>1.08</td>\n",
       "    </tr>\n",
       "  </tbody>\n",
       "</table>\n",
       "<p>216 rows × 8 columns</p>\n",
       "</div>"
      ],
      "text/plain": [
       "            city country  latitude  longitude  max_temp  humidity  cloudiness  \\\n",
       "0       camacupa      AO    -12.02      17.48     16.77        95         100   \n",
       "1      springbok      ZA    -29.67      17.88     14.00        93         100   \n",
       "2      mporokoso      ZM     -9.37      30.12     16.41        95          87   \n",
       "4    lichtenburg      ZA    -26.15      26.16     19.20        61         100   \n",
       "5          mongo      CD     -5.62      14.60     21.45        94          99   \n",
       "..           ...     ...       ...        ...       ...       ...         ...   \n",
       "309        monze      ZM    -16.28      27.48     19.24        95         100   \n",
       "311      luangwa      MZ    -15.62      30.40     21.81        92         100   \n",
       "312        caala      AO    -12.85      15.56     16.44        95         100   \n",
       "313       maamba      ZM    -17.36      27.22     21.92        82         100   \n",
       "315     ntungamo      UG     -0.87      30.27     16.40        90          80   \n",
       "\n",
       "     Wind speed  \n",
       "0          1.40  \n",
       "1          3.60  \n",
       "2          1.17  \n",
       "4          5.56  \n",
       "5          0.21  \n",
       "..          ...  \n",
       "309        2.33  \n",
       "311        0.15  \n",
       "312        0.91  \n",
       "313        0.50  \n",
       "315        1.08  \n",
       "\n",
       "[216 rows x 8 columns]"
      ]
     },
     "execution_count": 30,
     "metadata": {},
     "output_type": "execute_result"
    }
   ],
   "source": [
    "weather_south_df = weather_data.loc[(weather_data[\"latitude\"] < 0), :] \n",
    "weather_south_df\n",
    "\n",
    "lat_s = []\n",
    "lon_s = []\n",
    "temp_s = []\n",
    "humid_s = []\n",
    "cloud_s = []\n",
    "wind_s = []\n",
    "\n",
    "# iterate over rows with iterrows()\n",
    "for index, row in weather_south_df.iterrows():\n",
    "    lat_s.append(row[2])\n",
    "    lon_s.append(row[3])\n",
    "    temp_s.append(row[4])\n",
    "    humid_s.append(row[5])\n",
    "    cloud_s.append(row[6])\n",
    "    wind_s.append(row[7])\n",
    "\n",
    "weather_south_df    "
   ]
  },
  {
   "cell_type": "markdown",
   "metadata": {},
   "source": [
    "####  Northern Hemisphere - Max Temp vs. Latitude Linear Regression"
   ]
  },
  {
   "cell_type": "code",
   "execution_count": 31,
   "metadata": {},
   "outputs": [
    {
     "name": "stdout",
     "output_type": "stream",
     "text": [
      "The slope of the regression line is y = -0.386900672953743x + 22.19836666860919.\n",
      "The R^2 value of this regression line is 0.6085179966128911\n"
     ]
    },
    {
     "data": {
      "image/png": "[encoded data removed]",
      "text/plain": [
       "<Figure size 432x288 with 1 Axes>"
      ]
     },
     "metadata": {
      "needs_background": "light"
     },
     "output_type": "display_data"
    }
   ],
   "source": [
    "(slope, intercept, r, _, _) = linregress(lat_n, temp_n)\n",
    "\n",
    "plt.plot(lat_n, temp_n, 'o', label='data')\n",
    "\n",
    "x_axis = np.arange(0,90,15)\n",
    "fit = intercept + slope*x_axis\n",
    "plt.plot(x_axis, fit, 'r', label='fitted line')\n",
    "\n",
    "print(f\"The slope of the regression line is y = {slope}x + {intercept}.\")\n",
    "print(f\"The R^2 value of this regression line is {r**2}\")"
   ]
  },
  {
   "cell_type": "markdown",
   "metadata": {},
   "source": [
    "####  Southern Hemisphere - Max Temp vs. Latitude Linear Regression"
   ]
  },
  {
   "cell_type": "code",
   "execution_count": 32,
   "metadata": {},
   "outputs": [
    {
     "name": "stdout",
     "output_type": "stream",
     "text": [
      "The slope of the regression line is y = -0.028963204003217852x + 19.15828847641211.\n",
      "The R^2 value of this regression line is 0.006911191389738356\n"
     ]
    },
    {
     "data": {
      "image/png": "[encoded data removed]",
      "text/plain": [
       "<Figure size 432x288 with 1 Axes>"
      ]
     },
     "metadata": {
      "needs_background": "light"
     },
     "output_type": "display_data"
    }
   ],
   "source": [
    "(slope, intercept, r, _, _) = linregress(lat_s, temp_s)\n",
    "\n",
    "plt.plot(lat_s, temp_s, 'o', label='data')\n",
    "\n",
    "x_axis = np.arange(-90,15,15)\n",
    "fit = intercept + slope*x_axis\n",
    "plt.plot(x_axis, fit, 'r', label='fitted line')\n",
    "\n",
    "print(f\"The slope of the regression line is y = {slope}x + {intercept}.\")\n",
    "print(f\"The R^2 value of this regression line is {r**2}\")"
   ]
  },
  {
   "cell_type": "markdown",
   "metadata": {},
   "source": [
    "####  Northern Hemisphere - Humidity (%) vs. Latitude Linear Regression"
   ]
  },
  {
   "cell_type": "code",
   "execution_count": 33,
   "metadata": {},
   "outputs": [
    {
     "name": "stdout",
     "output_type": "stream",
     "text": [
      "The slope of the regression line is y = 0.6410664080646962x + 42.45129638874812.\n",
      "The R^2 value of this regression line is 0.129229119059489\n"
     ]
    },
    {
     "data": {
      "image/png": "[encoded data removed]",
      "text/plain": [
       "<Figure size 432x288 with 1 Axes>"
      ]
     },
     "metadata": {
      "needs_background": "light"
     },
     "output_type": "display_data"
    }
   ],
   "source": [
    "(slope, intercept, r, _, _) = linregress(lat_n, humid_n)\n",
    "\n",
    "plt.plot(lat_n, humid_n, 'o', label='data')\n",
    "\n",
    "x_axis = np.arange(0,90,15)\n",
    "fit = intercept + slope*x_axis\n",
    "plt.plot(x_axis, fit, 'r', label='fitted line')\n",
    "\n",
    "print(f\"The slope of the regression line is y = {slope}x + {intercept}.\")\n",
    "print(f\"The R^2 value of this regression line is {r**2}\")\n",
    "#plt.legend()\n",
    "#plt.show()"
   ]
  },
  {
   "cell_type": "markdown",
   "metadata": {},
   "source": [
    "####  Southern Hemisphere - Humidity (%) vs. Latitude Linear Regression"
   ]
  },
  {
   "cell_type": "code",
   "execution_count": 34,
   "metadata": {},
   "outputs": [
    {
     "name": "stdout",
     "output_type": "stream",
     "text": [
      "The slope of the regression line is y = 0.8953426871364814x + 97.48487829612775.\n",
      "The R^2 value of this regression line is 0.23307617858796614\n"
     ]
    },
    {
     "data": {
      "image/png": "[encoded data removed]",
      "text/plain": [
       "<Figure size 432x288 with 1 Axes>"
      ]
     },
     "metadata": {
      "needs_background": "light"
     },
     "output_type": "display_data"
    }
   ],
   "source": [
    "(slope, intercept, r, _, _) = linregress(lat_s, humid_s)\n",
    "\n",
    "plt.plot(lat_s, humid_s, 'o', label='data')\n",
    "\n",
    "x_axis = np.arange(-90,15,15)\n",
    "fit = intercept + slope*x_axis\n",
    "plt.plot(x_axis, fit, 'r', label='fitted line')\n",
    "\n",
    "print(f\"The slope of the regression line is y = {slope}x + {intercept}.\")\n",
    "print(f\"The R^2 value of this regression line is {r**2}\")\n",
    "#plt.legend()\n",
    "#plt.show()"
   ]
  },
  {
   "cell_type": "markdown",
   "metadata": {},
   "source": [
    "####  Northern Hemisphere - Cloudiness (%) vs. Latitude Linear Regression"
   ]
  },
  {
   "cell_type": "code",
   "execution_count": 35,
   "metadata": {},
   "outputs": [
    {
     "name": "stdout",
     "output_type": "stream",
     "text": [
      "The slope of the regression line is y = 0.02673137212315817x + 27.23313947422687.\n",
      "The R^2 value of this regression line is 9.706728537019007e-05\n"
     ]
    },
    {
     "data": {
      "image/png": "[encoded data removed]",
      "text/plain": [
       "<Figure size 432x288 with 1 Axes>"
      ]
     },
     "metadata": {
      "needs_background": "light"
     },
     "output_type": "display_data"
    }
   ],
   "source": [
    "(slope, intercept, r, _, _) = linregress(lat_n, cloud_n)\n",
    "\n",
    "plt.plot(lat_n, cloud_n, 'o', label='data')\n",
    "\n",
    "x_axis = np.arange(0,90,15)\n",
    "fit = intercept + slope*x_axis\n",
    "plt.plot(x_axis, fit, 'r', label='fitted line')\n",
    "\n",
    "print(f\"The slope of the regression line is y = {slope}x + {intercept}.\")\n",
    "print(f\"The R^2 value of this regression line is {r**2}\")\n",
    "#plt.legend()\n",
    "#plt.show()"
   ]
  },
  {
   "cell_type": "markdown",
   "metadata": {},
   "source": [
    "####  Southern Hemisphere - Cloudiness (%) vs. Latitude Linear Regression"
   ]
  },
  {
   "cell_type": "code",
   "execution_count": 36,
   "metadata": {},
   "outputs": [
    {
     "name": "stdout",
     "output_type": "stream",
     "text": [
      "The slope of the regression line is y = 0.8769391392816228x + 100.43955287427636.\n",
      "The R^2 value of this regression line is 0.08363825142792368\n"
     ]
    },
    {
     "data": {
      "image/png": "[encoded data removed]",
      "text/plain": [
       "<Figure size 432x288 with 1 Axes>"
      ]
     },
     "metadata": {
      "needs_background": "light"
     },
     "output_type": "display_data"
    }
   ],
   "source": [
    "(slope, intercept, r, _, _) = linregress(lat_s, cloud_s)\n",
    "\n",
    "plt.plot(lat_s, cloud_s, 'o', label='data')\n",
    "\n",
    "x_axis = np.arange(-90,15,15)\n",
    "fit = intercept + slope*x_axis\n",
    "plt.plot(x_axis, fit, 'r', label='fitted line')\n",
    "\n",
    "print(f\"The slope of the regression line is y = {slope}x + {intercept}.\")\n",
    "print(f\"The R^2 value of this regression line is {r**2}\")\n",
    "#plt.legend()\n",
    "#plt.show()"
   ]
  },
  {
   "cell_type": "markdown",
   "metadata": {},
   "source": [
    "####  Northern Hemisphere - Wind Speed (mph) vs. Latitude Linear Regression"
   ]
  },
  {
   "cell_type": "code",
   "execution_count": 37,
   "metadata": {},
   "outputs": [
    {
     "name": "stdout",
     "output_type": "stream",
     "text": [
      "The slope of the regression line is y = 0.11154830436156953x + 1.5231319535884726.\n",
      "The R^2 value of this regression line is 0.3277368071154411\n"
     ]
    },
    {
     "data": {
      "image/png": "[encoded data removed]",
      "text/plain": [
       "<Figure size 432x288 with 1 Axes>"
      ]
     },
     "metadata": {
      "needs_background": "light"
     },
     "output_type": "display_data"
    }
   ],
   "source": [
    "(slope, intercept, r, _, _) = linregress(lat_n, wind_n)\n",
    "\n",
    "plt.plot(lat_n, wind_n, 'o', label='data')\n",
    "\n",
    "x_axis = np.arange(0,90,15)\n",
    "fit = intercept + slope*x_axis\n",
    "plt.plot(x_axis, fit, 'r', label='fitted line')\n",
    "\n",
    "print(f\"The slope of the regression line is y = {slope}x + {intercept}.\")\n",
    "print(f\"The R^2 value of this regression line is {r**2}\")\n",
    "#plt.legend()\n",
    "#plt.show()"
   ]
  },
  {
   "cell_type": "markdown",
   "metadata": {},
   "source": [
    "####  Southern Hemisphere - Wind Speed (mph) vs. Latitude Linear Regression"
   ]
  },
  {
   "cell_type": "code",
   "execution_count": 38,
   "metadata": {},
   "outputs": [
    {
     "name": "stdout",
     "output_type": "stream",
     "text": [
      "The slope of the regression line is y = -0.12345475859263261x + 0.22784855162016404.\n",
      "The R^2 value of this regression line is 0.424117333162999\n"
     ]
    },
    {
     "data": {
      "image/png": "[encoded data removed]",
      "text/plain": [
       "<Figure size 432x288 with 1 Axes>"
      ]
     },
     "metadata": {
      "needs_background": "light"
     },
     "output_type": "display_data"
    }
   ],
   "source": [
    "(slope, intercept, r, _, _) = linregress(lat_s, wind_s)\n",
    "\n",
    "plt.plot(lat_s, wind_s, 'o', label='data')\n",
    "\n",
    "x_axis = np.arange(-90,15,15)\n",
    "fit = intercept + slope*x_axis\n",
    "plt.plot(x_axis, fit, 'r', label='fitted line')\n",
    "\n",
    "print(f\"The slope of the regression line is y = {slope}x + {intercept}.\")\n",
    "print(f\"The R^2 value of this regression line is {r**2}\")\n",
    "#plt.legend()\n",
    "#plt.show()"
   ]
  },
  {
   "cell_type": "code",
   "execution_count": null,
   "metadata": {},
   "outputs": [],
   "source": []
  }
 ],
 "metadata": {
  "anaconda-cloud": {},
  "kernel_info": {
   "name": "python3"
  },
  "kernelspec": {
   "display_name": "Python 3",
   "language": "python",
   "name": "python3"
  },
  "language_info": {
   "codemirror_mode": {
    "name": "ipython",
    "version": 3
   },
   "file_extension": ".py",
   "mimetype": "text/x-python",
   "name": "python",
   "nbconvert_exporter": "python",
   "pygments_lexer": "ipython3",
   "version": "3.7.4"
  },
  "latex_envs": {
   "LaTeX_envs_menu_present": true,
   "autoclose": false,
   "autocomplete": true,
   "bibliofile": "biblio.bib",
   "cite_by": "apalike",
   "current_citInitial": 1,
   "eqLabelWithNumbers": true,
   "eqNumInitial": 1,
   "hotkeys": {
    "equation": "Ctrl-E",
    "itemize": "Ctrl-I"
   },
   "labels_anchors": false,
   "latex_user_defs": false,
   "report_style_numbering": false,
   "user_envs_cfg": false
  },
  "nteract": {
   "version": "0.12.3"
  }
 },
 "nbformat": 4,
 "nbformat_minor": 2
}
